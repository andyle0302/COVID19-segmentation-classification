{
 "cells": [
  {
   "cell_type": "code",
   "execution_count": 12,
   "metadata": {},
   "outputs": [],
   "source": [
    "# mporting the libraries\n",
    "import torch\n",
    "import pandas as pd\n",
    "import numpy as np\n",
    "\n",
    "from torch.utils.data import DataLoader\n",
    "from tqdm import tqdm\n",
    "import albumentations  as A\n",
    "from albumentations.pytorch.transforms import ToTensorV2\n",
    "from torch.utils.data import Dataset\n",
    "\n",
    "import sys\n",
    "sys.path.insert(0, '../dataloader/')\n",
    "from datasetCOVIDx import ImageDataset, LungImageDataset\n"
   ]
  },
  {
   "cell_type": "markdown",
   "metadata": {},
   "source": [
    "# compute Mean and std of COVIDx CXR3 dataset"
   ]
  },
  {
   "cell_type": "code",
   "execution_count": 13,
   "metadata": {},
   "outputs": [
    {
     "data": {
      "text/html": [
       "<div>\n",
       "<style scoped>\n",
       "    .dataframe tbody tr th:only-of-type {\n",
       "        vertical-align: middle;\n",
       "    }\n",
       "\n",
       "    .dataframe tbody tr th {\n",
       "        vertical-align: top;\n",
       "    }\n",
       "\n",
       "    .dataframe thead th {\n",
       "        text-align: right;\n",
       "    }\n",
       "</style>\n",
       "<table border=\"1\" class=\"dataframe\">\n",
       "  <thead>\n",
       "    <tr style=\"text-align: right;\">\n",
       "      <th></th>\n",
       "      <th>file_name</th>\n",
       "      <th>label</th>\n",
       "    </tr>\n",
       "  </thead>\n",
       "  <tbody>\n",
       "    <tr>\n",
       "      <th>0</th>\n",
       "      <td>ARDSSevere.png</td>\n",
       "      <td>0</td>\n",
       "    </tr>\n",
       "    <tr>\n",
       "      <th>1</th>\n",
       "      <td>acute-respiratory-distress-syndrome-ards-1.jpg</td>\n",
       "      <td>0</td>\n",
       "    </tr>\n",
       "    <tr>\n",
       "      <th>2</th>\n",
       "      <td>acute-respiratory-distress-syndrome-ards.jpg</td>\n",
       "      <td>0</td>\n",
       "    </tr>\n",
       "    <tr>\n",
       "      <th>3</th>\n",
       "      <td>ards-secondary-to-tiger-snake-bite.png</td>\n",
       "      <td>0</td>\n",
       "    </tr>\n",
       "    <tr>\n",
       "      <th>4</th>\n",
       "      <td>pneumocystis-pneumonia-2-PA.png</td>\n",
       "      <td>0</td>\n",
       "    </tr>\n",
       "    <tr>\n",
       "      <th>...</th>\n",
       "      <td>...</td>\n",
       "      <td>...</td>\n",
       "    </tr>\n",
       "    <tr>\n",
       "      <th>29981</th>\n",
       "      <td>55204bb8-89fc-449d-8563-e91654abea9d.png</td>\n",
       "      <td>0</td>\n",
       "    </tr>\n",
       "    <tr>\n",
       "      <th>29982</th>\n",
       "      <td>0f4b80b6-fd39-451f-aebf-7cdb1b655c0b.png</td>\n",
       "      <td>0</td>\n",
       "    </tr>\n",
       "    <tr>\n",
       "      <th>29983</th>\n",
       "      <td>5fb64e85-62ef-4852-8ad1-f799015c8cc3.png</td>\n",
       "      <td>0</td>\n",
       "    </tr>\n",
       "    <tr>\n",
       "      <th>29984</th>\n",
       "      <td>c57ad4fd-3aa8-4ae8-a262-7336360d8265.png</td>\n",
       "      <td>0</td>\n",
       "    </tr>\n",
       "    <tr>\n",
       "      <th>29985</th>\n",
       "      <td>c56b4527-615d-414f-a375-081e6f3bbfdc.png</td>\n",
       "      <td>0</td>\n",
       "    </tr>\n",
       "  </tbody>\n",
       "</table>\n",
       "<p>29986 rows × 2 columns</p>\n",
       "</div>"
      ],
      "text/plain": [
       "                                            file_name  label\n",
       "0                                      ARDSSevere.png      0\n",
       "1      acute-respiratory-distress-syndrome-ards-1.jpg      0\n",
       "2        acute-respiratory-distress-syndrome-ards.jpg      0\n",
       "3              ards-secondary-to-tiger-snake-bite.png      0\n",
       "4                     pneumocystis-pneumonia-2-PA.png      0\n",
       "...                                               ...    ...\n",
       "29981        55204bb8-89fc-449d-8563-e91654abea9d.png      0\n",
       "29982        0f4b80b6-fd39-451f-aebf-7cdb1b655c0b.png      0\n",
       "29983        5fb64e85-62ef-4852-8ad1-f799015c8cc3.png      0\n",
       "29984        c57ad4fd-3aa8-4ae8-a262-7336360d8265.png      0\n",
       "29985        c56b4527-615d-414f-a375-081e6f3bbfdc.png      0\n",
       "\n",
       "[29986 rows x 2 columns]"
      ]
     },
     "execution_count": 13,
     "metadata": {},
     "output_type": "execute_result"
    }
   ],
   "source": [
    "train_txt= pd.read_csv('/mnt/DATA/research/classificationCOVID19applyseg/dataset/COVIDxCXR3/train.txt', sep= '\\s+', header=None)\n",
    "train_txt.columns= [\"patient id\",\"file_name\",\"class\",\"source\"]\n",
    "train_txt['label'] = np.where(train_txt['class']== 'negative', 0, 1) # tao cot label theo dk cua class\n",
    "# chi lay cot filename va label (1,4)\n",
    "train_txt1 = train_txt.iloc[:,[1,4]]\n",
    "train_txt1"
   ]
  },
  {
   "cell_type": "code",
   "execution_count": 14,
   "metadata": {},
   "outputs": [],
   "source": [
    "def compute_mean_std(dataloader):\n",
    "    mean1 = 0.\n",
    "    std1 = 0.\n",
    "    nb_samples = 0.\n",
    "    for data, _ in tqdm(dataloader):\n",
    "        # print(data)\n",
    "        batch_samples = data.size(0)\n",
    "\n",
    "        # Rearrange data to be the shape of [B, C, W * H]\n",
    "        data = data.view(batch_samples, data.size(1), -1) # torch.Size([32, 1, 65536])\n",
    "        \n",
    "        # Compute mean and std here\n",
    "        mean1 += data.mean(2).sum(0) # tinh mean theo width*height va lay tong theo batch_size\n",
    "        # print(data.mean(2).size())\n",
    "        std1 += data.std(2).sum(0)\n",
    "\n",
    "        # Update total number of images\n",
    "        nb_samples += batch_samples\n",
    "    mean1 /= nb_samples\n",
    "    std1 /= nb_samples\n",
    "\n",
    "    return mean1, std1"
   ]
  },
  {
   "cell_type": "code",
   "execution_count": 15,
   "metadata": {},
   "outputs": [],
   "source": [
    "transfms_M_STD = A.Compose([\n",
    "    A.Resize(256,256),\n",
    "    A.Normalize(mean = [0.], std =[1.]), # scale pixel values from [0,255] to [0,1]\n",
    "    ToTensorV2() \n",
    "])"
   ]
  },
  {
   "cell_type": "code",
   "execution_count": 17,
   "metadata": {},
   "outputs": [
    {
     "name": "stderr",
     "output_type": "stream",
     "text": [
      "100%|██████████| 469/469 [05:12<00:00,  1.50it/s]"
     ]
    },
    {
     "name": "stdout",
     "output_type": "stream",
     "text": [
      "tensor([0.5002, 0.5002, 0.5003]) tensor([0.2079, 0.2079, 0.2079])\n"
     ]
    },
    {
     "name": "stderr",
     "output_type": "stream",
     "text": [
      "\n"
     ]
    }
   ],
   "source": [
    "dataset = ImageDataset(train_txt1, '/mnt/DATA/research/classificationCOVID19applyseg/dataset/COVIDxCXR3/train/', transfms_M_STD) # train + val\n",
    "dataloader = DataLoader(dataset, batch_size=64, shuffle=False)\n",
    "data, _ = next(iter(dataloader))\n",
    "mean, std = compute_mean_std(dataloader)\n",
    "print(mean, std)"
   ]
  }
 ],
 "metadata": {
  "kernelspec": {
   "display_name": "Python 3.7.13 ('myenv')",
   "language": "python",
   "name": "python3"
  },
  "language_info": {
   "codemirror_mode": {
    "name": "ipython",
    "version": 3
   },
   "file_extension": ".py",
   "mimetype": "text/x-python",
   "name": "python",
   "nbconvert_exporter": "python",
   "pygments_lexer": "ipython3",
   "version": "3.7.13"
  },
  "orig_nbformat": 4,
  "vscode": {
   "interpreter": {
    "hash": "1b3d6bd9049347c1f269c20a16afc6ccadfeb7bdce6a8e9e75e1915b52836464"
   }
  }
 },
 "nbformat": 4,
 "nbformat_minor": 2
}
