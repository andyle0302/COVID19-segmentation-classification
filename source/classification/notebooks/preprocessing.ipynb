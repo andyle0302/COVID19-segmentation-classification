{
 "cells": [
  {
   "cell_type": "code",
   "execution_count": null,
   "metadata": {},
   "outputs": [],
   "source": [
    "#visualize preprocessing CXR3"
   ]
  },
  {
   "cell_type": "code",
   "execution_count": null,
   "metadata": {},
   "outputs": [],
   "source": [
    "# !pip install -q albumentations==0.4.6 before to import albumentations\n",
    "import albumentations as A\n",
    "from albumentations.pytorch.transforms import ToTensorV2\n",
    "import cv2\n",
    "import matplotlib.pyplot as plt\n",
    "import torch\n",
    "import numpy as np\n"
   ]
  },
  {
   "cell_type": "code",
   "execution_count": null,
   "metadata": {},
   "outputs": [],
   "source": [
    "img = cv2.imread('/content/5c433812-c8db-47af-94ce-9c6ee552cf7e.png', 1) \n",
    "img = cv2.cvtColor(img, cv2.COLOR_BGR2RGB)\n",
    "plt.imshow(img, cmap = 'gray')"
   ]
  },
  {
   "cell_type": "code",
   "execution_count": null,
   "metadata": {},
   "outputs": [],
   "source": [
    "\n",
    "augs = A.Compose([\n",
    "        A.Resize(256, 256), \n",
    "        A.HorizontalFlip(p=0.5),\n",
    "        A.OneOf([\n",
    "            A.ElasticTransform(alpha=120, sigma=120 * 0.05, alpha_affine=120 * 0.03),  # phép biến đổi co giãn\n",
    "            A.Rotate(limit=15),\n",
    "            A.ShiftScaleRotate(shift_limit=0.05, scale_limit=0.05, rotate_limit=20) # tuong tu RandomAffine cua PyTorch\n",
    "        ], p = 0.1),\n",
    "  \n",
    "        A.Normalize(mean = [0.5002, 0.5002, 0.5003], std = [0.2079, 0.2079, 0.2079]),\n",
    "        ToTensorV2()   \n",
    "    ])"
   ]
  },
  {
   "cell_type": "code",
   "execution_count": null,
   "metadata": {},
   "outputs": [],
   "source": [
    "mean = [0.5002, 0.5002, 0.5003]\n",
    "std = [0.2079, 0.2079, 0.2079]\n",
    "\n",
    "aug = augs(image = img)\n",
    "img1 = aug['image']\n",
    "print(img1.shape)\n",
    "# img1 = torch.transpose(img1, 0,2)\n",
    "# img1 = torch.transpose(img1,0,1)\n",
    "\n",
    "img1 = torch.permute(img1,(1,2,0))\n",
    "img1 = img1.numpy()\n",
    "# img1 = np.transpose(img1, (1,2,0))\n",
    "print(img1.shape)\n",
    "img1 = img1*std+mean\n",
    "img1 = np.clip(img1, 0,1)\n",
    "plt.imshow(img1)"
   ]
  }
 ],
 "metadata": {
  "kernelspec": {
   "display_name": "Python 3.7.13 ('myenv')",
   "language": "python",
   "name": "python3"
  },
  "language_info": {
   "name": "python",
   "version": "3.7.13"
  },
  "orig_nbformat": 4,
  "vscode": {
   "interpreter": {
    "hash": "1b3d6bd9049347c1f269c20a16afc6ccadfeb7bdce6a8e9e75e1915b52836464"
   }
  }
 },
 "nbformat": 4,
 "nbformat_minor": 2
}
