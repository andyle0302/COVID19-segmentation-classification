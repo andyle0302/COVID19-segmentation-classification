{
 "cells": [
  {
   "cell_type": "code",
   "execution_count": 1,
   "metadata": {},
   "outputs": [
    {
     "name": "stderr",
     "output_type": "stream",
     "text": [
      "/home/trucloan/anaconda3/envs/myenv/lib/python3.7/site-packages/tqdm/auto.py:22: TqdmWarning: IProgress not found. Please update jupyter and ipywidgets. See https://ipywidgets.readthedocs.io/en/stable/user_install.html\n",
      "  from .autonotebook import tqdm as notebook_tqdm\n"
     ]
    }
   ],
   "source": [
    "import cv2\n",
    "import matplotlib.pyplot as plt\n",
    "import numpy as np\n",
    "from skimage import morphology\n",
    "import os\n",
    "import os.path as path\n",
    "import shutil\n",
    "import pandas as pd\n",
    "\n",
    "#import module\n",
    "import sys\n",
    "sys.path.insert(0, '/mnt/DATA/research/project/classificationCOVID19applyseg/source/segmentation/')\n",
    "from utils.visualize import imshow_img_mask\n",
    "from dataloader.custom_dataset import COVID_QU_ExDataset"
   ]
  },
  {
   "cell_type": "code",
   "execution_count": 2,
   "metadata": {},
   "outputs": [],
   "source": [
    "def filter(file_name, mask_path, source_path, des_path1, des_path2):\n",
    "    mask = cv2.imread(mask_path + file_name,0)\n",
    "    # plt.imshow(mask,cmap = 'gray')\n",
    "    _, thresh = cv2.threshold(mask, 0,1, cv2.THRESH_BINARY + cv2.THRESH_OTSU)\n",
    "    contours, _= cv2.findContours(thresh.copy(),cv2.RETR_TREE,cv2.CHAIN_APPROX_SIMPLE)\n",
    "    # print(\"Number of Contours found = \"+ str(len(contours)))\n",
    "\n",
    "    # tinh dien tich vung phoi phan doan\n",
    "    areas = []\n",
    "    for i in range(len(contours)):\n",
    "        areas.append(cv2.contourArea(contours[i]))\n",
    "    # print(areas)\n",
    "    areas = sum(areas)\n",
    "    # print(areas)\n",
    "\n",
    "    # loc anh\n",
    "    if areas < (256*256)/15:\n",
    "        shutil.copy(source_path + file_name, des_path1)\n",
    "        shutil.copy(mask_path + file_name, des_path2)"
   ]
  },
  {
   "cell_type": "code",
   "execution_count": 3,
   "metadata": {},
   "outputs": [],
   "source": [
    "mask_path = '/mnt/DATA/research/project/classificationCOVID19applyseg/result/segmentation/lung_mask/EDA_Train/Positive/'\n",
    "data_path = '/mnt/DATA/research/project/classificationCOVID19applyseg/dataset/COVIDxCXR3/EDA_Train'\n",
    "source_path = data_path + '/Positive/'\n",
    "desimg_path = data_path + '/BadimgPositive/'\n",
    "desmask_path = data_path + '/BadmaskPositive/'\n",
    "\n",
    "# filter('A536707-01-06-1901-NA-CHEST_AP_PORT-00467-1.000000-AP-01709-1-1.jpg', mask_path, source_path, desimg_path)\n",
    "# good\n",
    "# '0a6c60063b4bae4de001caaba306d1_jumbo.jpeg'\n",
    "# bad\n",
    "# A536707-01-06-1901-NA-CHEST_AP_PORT-00467-1.000000-AP-01709-1-1.jpg"
   ]
  },
  {
   "cell_type": "code",
   "execution_count": 4,
   "metadata": {},
   "outputs": [
    {
     "data": {
      "text/plain": [
       "15994"
      ]
     },
     "execution_count": 4,
     "metadata": {},
     "output_type": "execute_result"
    }
   ],
   "source": [
    "file_name_list = os.listdir(mask_path)\n",
    "len(file_name_list)"
   ]
  },
  {
   "cell_type": "code",
   "execution_count": 5,
   "metadata": {},
   "outputs": [],
   "source": [
    "for idx in range(len(file_name_list)):\n",
    "    filter(file_name_list[idx], mask_path, source_path, desimg_path, desmask_path)"
   ]
  },
  {
   "cell_type": "code",
   "execution_count": 6,
   "metadata": {},
   "outputs": [
    {
     "data": {
      "text/plain": [
       "43"
      ]
     },
     "execution_count": 6,
     "metadata": {},
     "output_type": "execute_result"
    }
   ],
   "source": [
    "file_name_list_bad = os.listdir(desimg_path)\n",
    "len(file_name_list_bad)"
   ]
  },
  {
   "cell_type": "code",
   "execution_count": 7,
   "metadata": {},
   "outputs": [],
   "source": [
    "# train_dataset = ImageDataset(train_csv, lung_data + 'Train', augs)\n",
    "# train_dataloader = DataLoader(train_dataset, batch_size = 8, shuffle=True)\n",
    "# img, mask, label, file_name = next(iter(train_dataloader))\n",
    "# img, mask = img_de_normalize(img, mask)\n",
    "# # imshow_img_mask(img,mask,label)\n",
    "# imshow_img_mask(img, mask, file_name)"
   ]
  }
 ],
 "metadata": {
  "kernelspec": {
   "display_name": "Python 3.7.13 ('myenv')",
   "language": "python",
   "name": "python3"
  },
  "language_info": {
   "codemirror_mode": {
    "name": "ipython",
    "version": 3
   },
   "file_extension": ".py",
   "mimetype": "text/x-python",
   "name": "python",
   "nbconvert_exporter": "python",
   "pygments_lexer": "ipython3",
   "version": "3.7.13"
  },
  "orig_nbformat": 4,
  "vscode": {
   "interpreter": {
    "hash": "1b3d6bd9049347c1f269c20a16afc6ccadfeb7bdce6a8e9e75e1915b52836464"
   }
  }
 },
 "nbformat": 4,
 "nbformat_minor": 2
}
